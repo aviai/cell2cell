{
 "cells": [
  {
   "cell_type": "code",
   "execution_count": 1,
   "metadata": {},
   "outputs": [],
   "source": [
    "import cell2cell as c2c\n",
    "import scanpy as sc\n",
    "import pandas as pd\n",
    "\n",
    "%matplotlib inline"
   ]
  },
  {
   "cell_type": "markdown",
   "metadata": {},
   "source": [
    "# Data"
   ]
  },
  {
   "cell_type": "markdown",
   "metadata": {},
   "source": [
    "**RNA-seq data**\n",
    "\n",
    "In this case is a published dataset of ~14000 IFN-beta treated and control PBMCs from 8 donors (GSE96583; see Kang et al.). (obtained from: https://scelvis.readthedocs.io/en/latest/tutorial_analysis.html)\n",
    "\n",
    "Download this dataset here: https://files.figshare.com/18037739/pbmc.h5ad"
   ]
  },
  {
   "cell_type": "code",
   "execution_count": 2,
   "metadata": {},
   "outputs": [],
   "source": [
    "rnaseq = sc.read_h5ad('pbmc.h5ad')"
   ]
  },
  {
   "cell_type": "code",
   "execution_count": 3,
   "metadata": {},
   "outputs": [
    {
     "data": {
      "text/plain": [
       "AnnData object with n_obs × n_vars = 13836 × 14053\n",
       "    obs: 'n_genes', 'n_counts', 'orig_ident', 'stim', 'cluster', 'Donor'\n",
       "    var: 'gene.mean', 'gene.dispersion', 'gene.dispersion.scaled'\n",
       "    uns: 'about_readme', 'about_short_title', 'about_title', 'marker_avg_logFC', 'marker_cluster', 'marker_gene', 'marker_p_val_adj'\n",
       "    obsm: 'X_tsne'"
      ]
     },
     "execution_count": 3,
     "metadata": {},
     "output_type": "execute_result"
    }
   ],
   "source": [
    "rnaseq"
   ]
  },
  {
   "cell_type": "markdown",
   "metadata": {},
   "source": [
    "**For the purpose of this example, we will inspect only the control condition**"
   ]
  },
  {
   "cell_type": "code",
   "execution_count": 4,
   "metadata": {},
   "outputs": [
    {
     "name": "stderr",
     "output_type": "stream",
     "text": [
      "/Users/earmingol/opt/anaconda3/envs/c2c_dev/lib/python3.7/site-packages/anndata/_core/anndata.py:1094: FutureWarning: is_categorical is deprecated and will be removed in a future version.  Use is_categorical_dtype instead\n",
      "  if not is_categorical(df_full[k]):\n"
     ]
    }
   ],
   "source": [
    "rnaseq = rnaseq[rnaseq.obs.stim == 'CTRL']"
   ]
  },
  {
   "cell_type": "code",
   "execution_count": 5,
   "metadata": {},
   "outputs": [
    {
     "data": {
      "text/plain": [
       "View of AnnData object with n_obs × n_vars = 6573 × 14053\n",
       "    obs: 'n_genes', 'n_counts', 'orig_ident', 'stim', 'cluster', 'Donor'\n",
       "    var: 'gene.mean', 'gene.dispersion', 'gene.dispersion.scaled'\n",
       "    uns: 'about_readme', 'about_short_title', 'about_title', 'marker_avg_logFC', 'marker_cluster', 'marker_gene', 'marker_p_val_adj'\n",
       "    obsm: 'X_tsne'"
      ]
     },
     "execution_count": 5,
     "metadata": {},
     "output_type": "execute_result"
    }
   ],
   "source": [
    "rnaseq"
   ]
  },
  {
   "cell_type": "markdown",
   "metadata": {},
   "source": [
    "**Protein-Protein Interactions or Ligand-Receptor Pairs**\n",
    "\n",
    "In this case, we use a list of LR pairs published with CellChat (Jin et al. 2021, Nature Communications)."
   ]
  },
  {
   "cell_type": "code",
   "execution_count": 6,
   "metadata": {},
   "outputs": [],
   "source": [
    "lr_pairs = pd.read_csv('Human-2020-Jin-LR-pairs.csv')"
   ]
  },
  {
   "cell_type": "code",
   "execution_count": 7,
   "metadata": {},
   "outputs": [
    {
     "data": {
      "text/html": [
       "<div>\n",
       "<style scoped>\n",
       "    .dataframe tbody tr th:only-of-type {\n",
       "        vertical-align: middle;\n",
       "    }\n",
       "\n",
       "    .dataframe tbody tr th {\n",
       "        vertical-align: top;\n",
       "    }\n",
       "\n",
       "    .dataframe thead th {\n",
       "        text-align: right;\n",
       "    }\n",
       "</style>\n",
       "<table border=\"1\" class=\"dataframe\">\n",
       "  <thead>\n",
       "    <tr style=\"text-align: right;\">\n",
       "      <th></th>\n",
       "      <th>interaction_name</th>\n",
       "      <th>pathway_name</th>\n",
       "      <th>ligand</th>\n",
       "      <th>receptor</th>\n",
       "      <th>agonist</th>\n",
       "      <th>antagonist</th>\n",
       "      <th>co_A_receptor</th>\n",
       "      <th>co_I_receptor</th>\n",
       "      <th>evidence</th>\n",
       "      <th>annotation</th>\n",
       "      <th>interaction_name_2</th>\n",
       "    </tr>\n",
       "  </thead>\n",
       "  <tbody>\n",
       "    <tr>\n",
       "      <th>0</th>\n",
       "      <td>TGFB1_TGFBR1_TGFBR2</td>\n",
       "      <td>TGFb</td>\n",
       "      <td>TGFB1</td>\n",
       "      <td>TGFbR1_R2</td>\n",
       "      <td>TGFb agonist</td>\n",
       "      <td>TGFb antagonist</td>\n",
       "      <td>NaN</td>\n",
       "      <td>TGFb inhibition receptor</td>\n",
       "      <td>KEGG: hsa04350</td>\n",
       "      <td>Secreted Signaling</td>\n",
       "      <td>TGFB1 - (TGFBR1+TGFBR2)</td>\n",
       "    </tr>\n",
       "    <tr>\n",
       "      <th>1</th>\n",
       "      <td>TGFB2_TGFBR1_TGFBR2</td>\n",
       "      <td>TGFb</td>\n",
       "      <td>TGFB2</td>\n",
       "      <td>TGFbR1_R2</td>\n",
       "      <td>TGFb agonist</td>\n",
       "      <td>TGFb antagonist</td>\n",
       "      <td>NaN</td>\n",
       "      <td>TGFb inhibition receptor</td>\n",
       "      <td>KEGG: hsa04350</td>\n",
       "      <td>Secreted Signaling</td>\n",
       "      <td>TGFB2 - (TGFBR1+TGFBR2)</td>\n",
       "    </tr>\n",
       "    <tr>\n",
       "      <th>2</th>\n",
       "      <td>TGFB3_TGFBR1_TGFBR2</td>\n",
       "      <td>TGFb</td>\n",
       "      <td>TGFB3</td>\n",
       "      <td>TGFbR1_R2</td>\n",
       "      <td>TGFb agonist</td>\n",
       "      <td>TGFb antagonist</td>\n",
       "      <td>NaN</td>\n",
       "      <td>TGFb inhibition receptor</td>\n",
       "      <td>KEGG: hsa04350</td>\n",
       "      <td>Secreted Signaling</td>\n",
       "      <td>TGFB3 - (TGFBR1+TGFBR2)</td>\n",
       "    </tr>\n",
       "    <tr>\n",
       "      <th>3</th>\n",
       "      <td>TGFB1_ACVR1B_TGFBR2</td>\n",
       "      <td>TGFb</td>\n",
       "      <td>TGFB1</td>\n",
       "      <td>ACVR1B_TGFbR2</td>\n",
       "      <td>TGFb agonist</td>\n",
       "      <td>TGFb antagonist</td>\n",
       "      <td>NaN</td>\n",
       "      <td>TGFb inhibition receptor</td>\n",
       "      <td>PMID: 27449815</td>\n",
       "      <td>Secreted Signaling</td>\n",
       "      <td>TGFB1 - (ACVR1B+TGFBR2)</td>\n",
       "    </tr>\n",
       "    <tr>\n",
       "      <th>4</th>\n",
       "      <td>TGFB1_ACVR1C_TGFBR2</td>\n",
       "      <td>TGFb</td>\n",
       "      <td>TGFB1</td>\n",
       "      <td>ACVR1C_TGFbR2</td>\n",
       "      <td>TGFb agonist</td>\n",
       "      <td>TGFb antagonist</td>\n",
       "      <td>NaN</td>\n",
       "      <td>TGFb inhibition receptor</td>\n",
       "      <td>PMID: 27449815</td>\n",
       "      <td>Secreted Signaling</td>\n",
       "      <td>TGFB1 - (ACVR1C+TGFBR2)</td>\n",
       "    </tr>\n",
       "  </tbody>\n",
       "</table>\n",
       "</div>"
      ],
      "text/plain": [
       "      interaction_name pathway_name ligand       receptor       agonist  \\\n",
       "0  TGFB1_TGFBR1_TGFBR2         TGFb  TGFB1      TGFbR1_R2  TGFb agonist   \n",
       "1  TGFB2_TGFBR1_TGFBR2         TGFb  TGFB2      TGFbR1_R2  TGFb agonist   \n",
       "2  TGFB3_TGFBR1_TGFBR2         TGFb  TGFB3      TGFbR1_R2  TGFb agonist   \n",
       "3  TGFB1_ACVR1B_TGFBR2         TGFb  TGFB1  ACVR1B_TGFbR2  TGFb agonist   \n",
       "4  TGFB1_ACVR1C_TGFBR2         TGFb  TGFB1  ACVR1C_TGFbR2  TGFb agonist   \n",
       "\n",
       "        antagonist co_A_receptor             co_I_receptor        evidence  \\\n",
       "0  TGFb antagonist           NaN  TGFb inhibition receptor  KEGG: hsa04350   \n",
       "1  TGFb antagonist           NaN  TGFb inhibition receptor  KEGG: hsa04350   \n",
       "2  TGFb antagonist           NaN  TGFb inhibition receptor  KEGG: hsa04350   \n",
       "3  TGFb antagonist           NaN  TGFb inhibition receptor  PMID: 27449815   \n",
       "4  TGFb antagonist           NaN  TGFb inhibition receptor  PMID: 27449815   \n",
       "\n",
       "           annotation       interaction_name_2  \n",
       "0  Secreted Signaling  TGFB1 - (TGFBR1+TGFBR2)  \n",
       "1  Secreted Signaling  TGFB2 - (TGFBR1+TGFBR2)  \n",
       "2  Secreted Signaling  TGFB3 - (TGFBR1+TGFBR2)  \n",
       "3  Secreted Signaling  TGFB1 - (ACVR1B+TGFBR2)  \n",
       "4  Secreted Signaling  TGFB1 - (ACVR1C+TGFBR2)  "
      ]
     },
     "execution_count": 7,
     "metadata": {},
     "output_type": "execute_result"
    }
   ],
   "source": [
    "lr_pairs.head()"
   ]
  },
  {
   "cell_type": "markdown",
   "metadata": {},
   "source": [
    "**The names of genes/proteins have to match those in the rnaseq dataset.**\n",
    "\n",
    "So we will make all names to be all capital letters. We will also change the annotation of the complexes to easily integrate the data with cell2cell."
   ]
  },
  {
   "cell_type": "code",
   "execution_count": 8,
   "metadata": {},
   "outputs": [],
   "source": [
    "# Change complex annotations\n",
    "lr_pairs['ligand2'] = lr_pairs.interaction_name_2.apply(lambda x: x.split(' - ')[0].upper())\n",
    "lr_pairs['receptor2'] = lr_pairs.interaction_name_2.apply(lambda x: x.split(' - ')[1].upper() \\\n",
    "                                                       .replace('(', '').replace(')', '').replace('+', '&'))\n",
    "\n",
    "lr_pairs['c2c_interaction'] = lr_pairs.apply(lambda row: row['ligand2'] + '^' + row['receptor2'], axis=1)"
   ]
  },
  {
   "cell_type": "markdown",
   "metadata": {},
   "source": [
    "**Metadata**\n",
    "\n",
    "Metadata for the single cells"
   ]
  },
  {
   "cell_type": "code",
   "execution_count": 9,
   "metadata": {},
   "outputs": [],
   "source": [
    "meta = rnaseq.obs.copy()"
   ]
  },
  {
   "cell_type": "code",
   "execution_count": 10,
   "metadata": {},
   "outputs": [
    {
     "data": {
      "text/html": [
       "<div>\n",
       "<style scoped>\n",
       "    .dataframe tbody tr th:only-of-type {\n",
       "        vertical-align: middle;\n",
       "    }\n",
       "\n",
       "    .dataframe tbody tr th {\n",
       "        vertical-align: top;\n",
       "    }\n",
       "\n",
       "    .dataframe thead th {\n",
       "        text-align: right;\n",
       "    }\n",
       "</style>\n",
       "<table border=\"1\" class=\"dataframe\">\n",
       "  <thead>\n",
       "    <tr style=\"text-align: right;\">\n",
       "      <th></th>\n",
       "      <th>n_genes</th>\n",
       "      <th>n_counts</th>\n",
       "      <th>orig_ident</th>\n",
       "      <th>stim</th>\n",
       "      <th>cluster</th>\n",
       "      <th>Donor</th>\n",
       "    </tr>\n",
       "    <tr>\n",
       "      <th>index</th>\n",
       "      <th></th>\n",
       "      <th></th>\n",
       "      <th></th>\n",
       "      <th></th>\n",
       "      <th></th>\n",
       "      <th></th>\n",
       "    </tr>\n",
       "  </thead>\n",
       "  <tbody>\n",
       "    <tr>\n",
       "      <th>CTRL_AAACATACATTTCC.1</th>\n",
       "      <td>878.0</td>\n",
       "      <td>3018.0</td>\n",
       "      <td>CTRL</td>\n",
       "      <td>CTRL</td>\n",
       "      <td>CD14 Mono</td>\n",
       "      <td>SNG-1016</td>\n",
       "    </tr>\n",
       "    <tr>\n",
       "      <th>CTRL_AAACATACCAGAAA.1</th>\n",
       "      <td>713.0</td>\n",
       "      <td>2481.0</td>\n",
       "      <td>CTRL</td>\n",
       "      <td>CTRL</td>\n",
       "      <td>CD14 Mono</td>\n",
       "      <td>SNG-1256</td>\n",
       "    </tr>\n",
       "    <tr>\n",
       "      <th>CTRL_AAACATACCTCGCT.1</th>\n",
       "      <td>850.0</td>\n",
       "      <td>3420.0</td>\n",
       "      <td>CTRL</td>\n",
       "      <td>CTRL</td>\n",
       "      <td>CD14 Mono</td>\n",
       "      <td>SNG-1256</td>\n",
       "    </tr>\n",
       "    <tr>\n",
       "      <th>CTRL_AAACATACGGCATT.1</th>\n",
       "      <td>558.0</td>\n",
       "      <td>1582.0</td>\n",
       "      <td>CTRL</td>\n",
       "      <td>CTRL</td>\n",
       "      <td>CD14 Mono</td>\n",
       "      <td>SNG-1015</td>\n",
       "    </tr>\n",
       "    <tr>\n",
       "      <th>CTRL_AAACATTGCTTCGC.1</th>\n",
       "      <td>669.0</td>\n",
       "      <td>2536.0</td>\n",
       "      <td>CTRL</td>\n",
       "      <td>CTRL</td>\n",
       "      <td>CD14 Mono</td>\n",
       "      <td>SNG-1256</td>\n",
       "    </tr>\n",
       "  </tbody>\n",
       "</table>\n",
       "</div>"
      ],
      "text/plain": [
       "                       n_genes  n_counts orig_ident  stim    cluster     Donor\n",
       "index                                                                         \n",
       "CTRL_AAACATACATTTCC.1    878.0    3018.0       CTRL  CTRL  CD14 Mono  SNG-1016\n",
       "CTRL_AAACATACCAGAAA.1    713.0    2481.0       CTRL  CTRL  CD14 Mono  SNG-1256\n",
       "CTRL_AAACATACCTCGCT.1    850.0    3420.0       CTRL  CTRL  CD14 Mono  SNG-1256\n",
       "CTRL_AAACATACGGCATT.1    558.0    1582.0       CTRL  CTRL  CD14 Mono  SNG-1015\n",
       "CTRL_AAACATTGCTTCGC.1    669.0    2536.0       CTRL  CTRL  CD14 Mono  SNG-1256"
      ]
     },
     "execution_count": 10,
     "metadata": {},
     "output_type": "execute_result"
    }
   ],
   "source": [
    "meta.head()"
   ]
  },
  {
   "cell_type": "markdown",
   "metadata": {},
   "source": [
    "# Cell-cell Interactions and Communication Analysis"
   ]
  },
  {
   "cell_type": "markdown",
   "metadata": {},
   "source": [
    "**Using an Interaction Pipeline**\n",
    "\n",
    "The pipeline integrates the RNA-seq and PPI datasets by using the analysis setups. It generates an interaction space containing an instance for each sample/cell type, containing the values assigned to each protein in the PPI list given the setups for computing the CCI and CCC scores.\n",
    "\n",
    "In this case is single cell data."
   ]
  },
  {
   "cell_type": "code",
   "execution_count": 11,
   "metadata": {},
   "outputs": [],
   "source": [
    "interactions = c2c.analysis.SingleCellInteractions(rnaseq_data=rnaseq.to_df().T,\n",
    "                                                   ppi_data=lr_pairs,\n",
    "                                                   metadata=meta,\n",
    "                                                   interaction_columns=('ligand2', 'receptor2'),\n",
    "                                                   communication_score='expression_thresholding',\n",
    "                                                   expression_threshold=0.1, # values after aggregation\n",
    "                                                   cci_score='bray_curtis',\n",
    "                                                   cci_type='undirected',\n",
    "                                                   aggregation_method='nn_cell_fraction',\n",
    "                                                   barcode_col='index',\n",
    "                                                   celltype_col='cluster',\n",
    "                                                   complex_sep='&',\n",
    "                                                   verbose=False)"
   ]
  },
  {
   "cell_type": "markdown",
   "metadata": {},
   "source": [
    "**Compute communication scores for each PPI or LR pair**"
   ]
  },
  {
   "cell_type": "code",
   "execution_count": 12,
   "metadata": {},
   "outputs": [
    {
     "name": "stdout",
     "output_type": "stream",
     "text": [
      "Computing pairwise communication\n",
      "Computing communication score between B activated and NK\n",
      "Computing communication score between T activated and DC\n",
      "Computing communication score between CD8 T and CD8 T\n",
      "Computing communication score between Eryth and Mk\n",
      "Computing communication score between DC and DC\n",
      "Computing communication score between CD16 Mono and CD4 Memory T\n",
      "Computing communication score between CD16 Mono and B\n",
      "Computing communication score between pDC and T activated\n",
      "Computing communication score between NK and B\n",
      "Computing communication score between T activated and B activated\n",
      "Computing communication score between B and CD4 Naive T\n",
      "Computing communication score between CD4 Naive T and CD16 Mono\n",
      "Computing communication score between CD4 Naive T and Mk\n",
      "Computing communication score between DC and T activated\n",
      "Computing communication score between CD8 T and pDC\n",
      "Computing communication score between CD4 Memory T and B\n",
      "Computing communication score between B activated and Eryth\n",
      "Computing communication score between B and B\n",
      "Computing communication score between pDC and CD4 Memory T\n",
      "Computing communication score between B activated and Mk\n",
      "Computing communication score between NK and DC\n",
      "Computing communication score between CD4 Memory T and CD8 T\n",
      "Computing communication score between B activated and CD14 Mono\n",
      "Computing communication score between DC and B activated\n",
      "Computing communication score between Eryth and CD8 T\n",
      "Computing communication score between DC and CD8 T\n",
      "Computing communication score between B and CD4 Memory T\n",
      "Computing communication score between Mk and B\n",
      "Computing communication score between DC and pDC\n",
      "Computing communication score between CD8 T and CD4 Naive T\n",
      "Computing communication score between NK and B activated\n",
      "Computing communication score between CD14 Mono and NK\n",
      "Computing communication score between pDC and B activated\n",
      "Computing communication score between CD4 Memory T and CD4 Memory T\n",
      "Computing communication score between CD4 Naive T and NK\n",
      "Computing communication score between CD8 T and CD4 Memory T\n",
      "Computing communication score between Eryth and CD4 Naive T\n",
      "Computing communication score between Mk and CD8 T\n",
      "Computing communication score between CD8 T and T activated\n",
      "Computing communication score between CD14 Mono and CD14 Mono\n",
      "Computing communication score between CD8 T and B\n",
      "Computing communication score between pDC and DC\n",
      "Computing communication score between CD4 Naive T and CD14 Mono\n",
      "Computing communication score between T activated and CD4 Naive T\n",
      "Computing communication score between B activated and B activated\n",
      "Computing communication score between B and T activated\n",
      "Computing communication score between CD16 Mono and pDC\n",
      "Computing communication score between CD8 T and CD16 Mono\n",
      "Computing communication score between Eryth and T activated\n",
      "Computing communication score between B activated and CD8 T\n",
      "Computing communication score between DC and CD4 Naive T\n",
      "Computing communication score between Mk and Eryth\n",
      "Computing communication score between CD16 Mono and DC\n",
      "Computing communication score between Eryth and CD16 Mono\n",
      "Computing communication score between CD14 Mono and Mk\n",
      "Computing communication score between CD4 Naive T and T activated\n",
      "Computing communication score between DC and Mk\n",
      "Computing communication score between Mk and NK\n",
      "Computing communication score between NK and T activated\n",
      "Computing communication score between B and pDC\n",
      "Computing communication score between CD4 Memory T and B activated\n",
      "Computing communication score between CD16 Mono and T activated\n",
      "Computing communication score between B and Eryth\n",
      "Computing communication score between Eryth and CD4 Memory T\n",
      "Computing communication score between CD8 T and NK\n",
      "Computing communication score between CD8 T and Eryth\n",
      "Computing communication score between NK and CD4 Naive T\n",
      "Computing communication score between B and NK\n",
      "Computing communication score between pDC and CD8 T\n",
      "Computing communication score between CD16 Mono and Eryth\n",
      "Computing communication score between DC and B\n",
      "Computing communication score between CD8 T and CD14 Mono\n",
      "Computing communication score between CD4 Memory T and NK\n",
      "Computing communication score between CD4 Naive T and CD4 Memory T\n",
      "Computing communication score between CD14 Mono and B\n",
      "Computing communication score between NK and Eryth\n",
      "Computing communication score between CD4 Naive T and Eryth\n",
      "Computing communication score between CD4 Naive T and pDC\n",
      "Computing communication score between CD14 Mono and Eryth\n",
      "Computing communication score between DC and NK\n",
      "Computing communication score between Mk and Mk\n",
      "Computing communication score between CD14 Mono and CD8 T\n",
      "Computing communication score between T activated and T activated\n",
      "Computing communication score between Eryth and DC\n",
      "Computing communication score between Mk and CD14 Mono\n",
      "Computing communication score between T activated and CD8 T\n",
      "Computing communication score between CD8 T and Mk\n",
      "Computing communication score between DC and CD14 Mono\n",
      "Computing communication score between CD4 Memory T and CD16 Mono\n",
      "Computing communication score between B activated and B\n",
      "Computing communication score between Mk and CD4 Naive T\n",
      "Computing communication score between B and Mk\n",
      "Computing communication score between B and CD16 Mono\n",
      "Computing communication score between CD4 Naive T and CD4 Naive T\n",
      "Computing communication score between B and CD14 Mono\n",
      "Computing communication score between pDC and CD14 Mono\n",
      "Computing communication score between pDC and CD16 Mono\n",
      "Computing communication score between CD4 Memory T and Mk\n",
      "Computing communication score between T activated and pDC\n",
      "Computing communication score between T activated and Eryth\n",
      "Computing communication score between CD16 Mono and CD4 Naive T\n",
      "Computing communication score between CD4 Memory T and CD14 Mono\n",
      "Computing communication score between B activated and CD4 Memory T\n",
      "Computing communication score between CD14 Mono and T activated\n",
      "Computing communication score between B activated and DC\n",
      "Computing communication score between NK and Mk\n",
      "Computing communication score between T activated and NK\n",
      "Computing communication score between CD4 Memory T and CD4 Naive T\n",
      "Computing communication score between NK and CD8 T\n",
      "Computing communication score between CD16 Mono and Mk\n",
      "Computing communication score between CD8 T and B activated\n",
      "Computing communication score between CD16 Mono and CD16 Mono\n",
      "Computing communication score between CD14 Mono and pDC\n",
      "Computing communication score between CD4 Naive T and B\n",
      "Computing communication score between DC and CD4 Memory T\n",
      "Computing communication score between NK and pDC\n",
      "Computing communication score between B and CD8 T\n",
      "Computing communication score between CD14 Mono and B activated\n",
      "Computing communication score between pDC and NK\n",
      "Computing communication score between DC and Eryth\n",
      "Computing communication score between CD16 Mono and CD14 Mono\n",
      "Computing communication score between Mk and T activated\n",
      "Computing communication score between Eryth and B\n",
      "Computing communication score between NK and NK\n",
      "Computing communication score between T activated and Mk\n",
      "Computing communication score between pDC and pDC\n",
      "Computing communication score between T activated and CD16 Mono\n",
      "Computing communication score between T activated and CD14 Mono\n",
      "Computing communication score between CD16 Mono and NK\n",
      "Computing communication score between Eryth and Eryth\n",
      "Computing communication score between Mk and CD4 Memory T\n",
      "Computing communication score between B activated and pDC\n",
      "Computing communication score between CD14 Mono and CD4 Naive T\n",
      "Computing communication score between Eryth and CD14 Mono\n",
      "Computing communication score between Mk and DC\n",
      "Computing communication score between CD4 Naive T and DC\n",
      "Computing communication score between CD4 Memory T and T activated\n",
      "Computing communication score between Mk and pDC\n",
      "Computing communication score between CD16 Mono and B activated\n",
      "Computing communication score between pDC and Mk\n",
      "Computing communication score between Mk and B activated\n",
      "Computing communication score between B and DC\n",
      "Computing communication score between DC and CD16 Mono\n",
      "Computing communication score between CD14 Mono and CD16 Mono\n",
      "Computing communication score between CD4 Memory T and Eryth\n",
      "Computing communication score between B activated and CD4 Naive T\n",
      "Computing communication score between CD4 Memory T and DC\n",
      "Computing communication score between NK and CD16 Mono\n",
      "Computing communication score between NK and CD14 Mono\n",
      "Computing communication score between NK and CD4 Memory T\n",
      "Computing communication score between B and B activated\n",
      "Computing communication score between CD4 Memory T and pDC\n",
      "Computing communication score between CD14 Mono and CD4 Memory T\n",
      "Computing communication score between B activated and T activated\n",
      "Computing communication score between Eryth and NK\n",
      "Computing communication score between CD4 Naive T and B activated\n",
      "Computing communication score between B activated and CD16 Mono\n",
      "Computing communication score between CD4 Naive T and CD8 T\n",
      "Computing communication score between T activated and B\n",
      "Computing communication score between CD8 T and DC\n",
      "Computing communication score between pDC and B\n",
      "Computing communication score between Eryth and pDC\n",
      "Computing communication score between pDC and Eryth\n",
      "Computing communication score between Eryth and B activated\n",
      "Computing communication score between Mk and CD16 Mono\n",
      "Computing communication score between T activated and CD4 Memory T\n",
      "Computing communication score between CD14 Mono and DC\n",
      "Computing communication score between CD16 Mono and CD8 T\n",
      "Computing communication score between pDC and CD4 Naive T\n"
     ]
    }
   ],
   "source": [
    "interactions.compute_pairwise_communication_scores()"
   ]
  },
  {
   "cell_type": "markdown",
   "metadata": {},
   "source": [
    "**Compute CCI scores for each pair of cells**\n",
    "\n",
    "It is computed according to the analysis setups. We computed an undirected Bray-Curtis-like score for each pair, meaning that score(C1, C2) = score(C2, C1).\n",
    "**Notice that our score is undirected, so for C1 and C2 was not necessary to compute C2 and C1 as happened for the communication scores**"
   ]
  },
  {
   "cell_type": "code",
   "execution_count": 13,
   "metadata": {
    "scrolled": true
   },
   "outputs": [
    {
     "name": "stdout",
     "output_type": "stream",
     "text": [
      "Computing pairwise interactions\n",
      "Computing interaction score between B activated and NK\n",
      "Computing interaction score between CD8 T and CD8 T\n",
      "Computing interaction score between Eryth and Mk\n",
      "Computing interaction score between DC and DC\n",
      "Computing interaction score between CD16 Mono and CD4 Memory T\n",
      "Computing interaction score between B and CD4 Naive T\n",
      "Computing interaction score between CD4 Naive T and Mk\n",
      "Computing interaction score between DC and T activated\n",
      "Computing interaction score between CD8 T and pDC\n",
      "Computing interaction score between B activated and Eryth\n",
      "Computing interaction score between B and B\n",
      "Computing interaction score between B activated and Mk\n",
      "Computing interaction score between CD4 Memory T and CD8 T\n",
      "Computing interaction score between B activated and CD14 Mono\n",
      "Computing interaction score between B and CD4 Memory T\n",
      "Computing interaction score between DC and pDC\n",
      "Computing interaction score between CD14 Mono and NK\n",
      "Computing interaction score between CD4 Naive T and NK\n",
      "Computing interaction score between CD4 Memory T and CD4 Memory T\n",
      "Computing interaction score between CD8 T and T activated\n",
      "Computing interaction score between CD14 Mono and CD14 Mono\n",
      "Computing interaction score between B activated and B activated\n",
      "Computing interaction score between B and T activated\n",
      "Computing interaction score between CD16 Mono and pDC\n",
      "Computing interaction score between Eryth and T activated\n",
      "Computing interaction score between B activated and CD8 T\n",
      "Computing interaction score between CD16 Mono and DC\n",
      "Computing interaction score between CD14 Mono and Mk\n",
      "Computing interaction score between CD4 Naive T and T activated\n",
      "Computing interaction score between DC and Mk\n",
      "Computing interaction score between Mk and NK\n",
      "Computing interaction score between NK and T activated\n",
      "Computing interaction score between B and pDC\n",
      "Computing interaction score between CD16 Mono and T activated\n",
      "Computing interaction score between B and Eryth\n",
      "Computing interaction score between CD8 T and NK\n",
      "Computing interaction score between CD8 T and Eryth\n",
      "Computing interaction score between B and NK\n",
      "Computing interaction score between CD16 Mono and Eryth\n",
      "Computing interaction score between CD4 Memory T and NK\n",
      "Computing interaction score between CD4 Naive T and Eryth\n",
      "Computing interaction score between CD4 Naive T and pDC\n",
      "Computing interaction score between CD14 Mono and Eryth\n",
      "Computing interaction score between DC and NK\n",
      "Computing interaction score between Mk and Mk\n",
      "Computing interaction score between CD14 Mono and CD8 T\n",
      "Computing interaction score between T activated and T activated\n",
      "Computing interaction score between CD8 T and Mk\n",
      "Computing interaction score between B and Mk\n",
      "Computing interaction score between B and CD16 Mono\n",
      "Computing interaction score between CD4 Naive T and CD4 Naive T\n",
      "Computing interaction score between B and CD14 Mono\n",
      "Computing interaction score between CD4 Memory T and Mk\n",
      "Computing interaction score between T activated and pDC\n",
      "Computing interaction score between CD16 Mono and CD4 Naive T\n",
      "Computing interaction score between B activated and CD4 Memory T\n",
      "Computing interaction score between CD14 Mono and T activated\n",
      "Computing interaction score between B activated and DC\n",
      "Computing interaction score between CD4 Memory T and CD4 Naive T\n",
      "Computing interaction score between CD16 Mono and Mk\n",
      "Computing interaction score between CD16 Mono and CD16 Mono\n",
      "Computing interaction score between CD14 Mono and pDC\n",
      "Computing interaction score between NK and pDC\n",
      "Computing interaction score between B and CD8 T\n",
      "Computing interaction score between DC and Eryth\n",
      "Computing interaction score between Mk and T activated\n",
      "Computing interaction score between NK and NK\n",
      "Computing interaction score between pDC and pDC\n",
      "Computing interaction score between CD16 Mono and NK\n",
      "Computing interaction score between Eryth and Eryth\n",
      "Computing interaction score between B activated and pDC\n",
      "Computing interaction score between CD14 Mono and CD4 Naive T\n",
      "Computing interaction score between CD4 Naive T and DC\n",
      "Computing interaction score between CD4 Memory T and T activated\n",
      "Computing interaction score between Mk and pDC\n",
      "Computing interaction score between B and DC\n",
      "Computing interaction score between CD14 Mono and CD16 Mono\n",
      "Computing interaction score between CD4 Memory T and Eryth\n",
      "Computing interaction score between B activated and CD4 Naive T\n",
      "Computing interaction score between CD4 Memory T and DC\n",
      "Computing interaction score between B and B activated\n",
      "Computing interaction score between CD4 Memory T and pDC\n",
      "Computing interaction score between CD14 Mono and CD4 Memory T\n",
      "Computing interaction score between B activated and T activated\n",
      "Computing interaction score between Eryth and NK\n",
      "Computing interaction score between B activated and CD16 Mono\n",
      "Computing interaction score between CD4 Naive T and CD8 T\n",
      "Computing interaction score between CD8 T and DC\n",
      "Computing interaction score between Eryth and pDC\n",
      "Computing interaction score between CD14 Mono and DC\n",
      "Computing interaction score between CD16 Mono and CD8 T\n"
     ]
    }
   ],
   "source": [
    "interactions.compute_pairwise_cci_scores()"
   ]
  },
  {
   "cell_type": "markdown",
   "metadata": {},
   "source": [
    "**Perform permutation analysis**"
   ]
  },
  {
   "cell_type": "code",
   "execution_count": null,
   "metadata": {},
   "outputs": [
    {
     "name": "stderr",
     "output_type": "stream",
     "text": [
      "\r",
      "  0%|          | 0/10 [00:00<?, ?it/s]"
     ]
    }
   ],
   "source": [
    "cci_pvals = interactions.permute_cell_labels(evaluation='interactions', permutations=10, verbose=True)"
   ]
  },
  {
   "cell_type": "code",
   "execution_count": null,
   "metadata": {},
   "outputs": [],
   "source": [
    "cci_pvals"
   ]
  },
  {
   "cell_type": "code",
   "execution_count": null,
   "metadata": {},
   "outputs": [],
   "source": [
    "ccc_pvals = interactions.permute_cell_labels(evaluation='communication', permutations=10, verbose=True)"
   ]
  },
  {
   "cell_type": "code",
   "execution_count": null,
   "metadata": {},
   "outputs": [],
   "source": [
    "ccc_pvals"
   ]
  },
  {
   "cell_type": "markdown",
   "metadata": {},
   "source": [
    "# Visualizations\n",
    "\n",
    "If we want to save the figure as a vector figure, we can pass a pathname into the filename input to save it. E.g. ***filename='/Users/cell2cell/CommScores.svg'***"
   ]
  },
  {
   "cell_type": "markdown",
   "metadata": {},
   "source": [
    "**Generate a metadata for the cell types**"
   ]
  },
  {
   "cell_type": "code",
   "execution_count": null,
   "metadata": {},
   "outputs": [],
   "source": [
    "group_meta = pd.DataFrame(columns=['Celltype', 'Group'])\n",
    "group_meta['Celltype'] = meta['cluster'].unique().tolist()\n",
    "group_meta['Group'] = ['Mono', 'DC', 'T', 'T', 'T', 'T', 'Mk', 'B', 'B', 'DC', 'Mono', 'NK', 'Eryth']"
   ]
  },
  {
   "cell_type": "code",
   "execution_count": null,
   "metadata": {
    "scrolled": true
   },
   "outputs": [],
   "source": [
    "group_meta"
   ]
  },
  {
   "cell_type": "markdown",
   "metadata": {},
   "source": [
    "**Generate colors for the groups in the metadata**\n",
    "\n",
    "It returns a dictionary with the colors."
   ]
  },
  {
   "cell_type": "code",
   "execution_count": null,
   "metadata": {},
   "outputs": [],
   "source": [
    "colors = c2c.plotting.get_colors_from_labels(labels=group_meta['Group'].unique().tolist(),\n",
    "                                             cmap='tab10'\n",
    "                                            )"
   ]
  },
  {
   "cell_type": "markdown",
   "metadata": {},
   "source": [
    "**Visualize communication scores for each LR pair and each cell pair**"
   ]
  },
  {
   "cell_type": "code",
   "execution_count": null,
   "metadata": {},
   "outputs": [],
   "source": [
    "interaction_clustermap = c2c.plotting.clustermap_ccc(interactions,\n",
    "                                                     metric='jaccard',\n",
    "                                                     method='complete',\n",
    "                                                     metadata=group_meta,\n",
    "                                                     sample_col='Celltype',\n",
    "                                                     group_col='Group',\n",
    "                                                     colors=colors,\n",
    "                                                     row_fontsize=14,\n",
    "                                                     title='Active ligand-receptor pairs for interacting cells',\n",
    "                                                     filename=None,\n",
    "                                                     cell_labels=('SENDER-CELLS', 'RECEIVER-CELLS'),\n",
    "                                                     **{'figsize' : (10,9)}\n",
    "                                                     )\n",
    "\n",
    "# Add a legend to know the groups of the sender and receiver cells:\n",
    "l1 = c2c.plotting.generate_legend(color_dict=colors,\n",
    "                                  loc='center left',\n",
    "                                  bbox_to_anchor=(20, -2), # Indicated where to include it\n",
    "                                  ncol=1, fancybox=True,\n",
    "                                  shadow=True,\n",
    "                                  title='Groups',\n",
    "                                  fontsize=14,\n",
    "                                 )"
   ]
  },
  {
   "cell_type": "markdown",
   "metadata": {},
   "source": [
    "**Circos plot**\n",
    "\n",
    "It generates a circos plot, showing the cells producing ligands (sender_cells), according to a list of specific ligands (ligands) to the cells producing receptors (receiver_cells), according to a list of specific receptors (receptors). The order of these lists is preserved in the visualization. Elements that are not used are omitted and therefore not plotted (in this case those with a communication score of 0, specified in 'excluded_score')."
   ]
  },
  {
   "cell_type": "code",
   "execution_count": null,
   "metadata": {},
   "outputs": [],
   "source": [
    "sender_cells = ['DC', 'pDC']\n",
    "receiver_cells = ['CD8 T', 'CD4 Memory T', 'B activated']\n",
    "ligands = ['TGFB1',\n",
    "           'APP',\n",
    "           'MIF',\n",
    "           'CCL3'\n",
    "          ]\n",
    "receptors = ['TGFBR1&TGFBR2',\n",
    "             'CD74&CD44',\n",
    "             'CD74',\n",
    "             'CCR1',\n",
    "            ]"
   ]
  },
  {
   "cell_type": "code",
   "execution_count": null,
   "metadata": {},
   "outputs": [],
   "source": [
    "c2c.plotting.circos_plot(interaction_space=interactions,\n",
    "                         sender_cells=sender_cells,\n",
    "                         receiver_cells=receiver_cells,\n",
    "                         ligands=ligands,\n",
    "                         receptors=receptors,\n",
    "                         excluded_score=0,\n",
    "                         metadata=group_meta,\n",
    "                         sample_col='Celltype',\n",
    "                         group_col='Group',\n",
    "                         colors=colors,\n",
    "                         fontsize=15,\n",
    "                        )"
   ]
  },
  {
   "cell_type": "markdown",
   "metadata": {},
   "source": [
    "If we do not pass metadata info, the samples/cell types are only plotted.\n",
    "\n",
    "We can also change the label colors of ligands and receptors"
   ]
  },
  {
   "cell_type": "code",
   "execution_count": null,
   "metadata": {},
   "outputs": [],
   "source": [
    "c2c.plotting.circos_plot(interaction_space=interactions,\n",
    "                         sender_cells=sender_cells,\n",
    "                         receiver_cells=receiver_cells,\n",
    "                         ligands=ligands,\n",
    "                         receptors=receptors,\n",
    "                         excluded_score=0,\n",
    "                         fontsize=20,\n",
    "                         ligand_label_color='orange',\n",
    "                         receptor_label_color='brown',\n",
    "                        )"
   ]
  },
  {
   "cell_type": "markdown",
   "metadata": {},
   "source": [
    "**Visualize CCI scores**\n",
    "\n",
    "Since this case is undirected, a triangular heatmap is plotted instead of the complete one."
   ]
  },
  {
   "cell_type": "code",
   "execution_count": null,
   "metadata": {},
   "outputs": [],
   "source": [
    "cm = c2c.plotting.clustermap_cci(interactions,\n",
    "                                 method='complete',\n",
    "                                 metadata=group_meta,\n",
    "                                 sample_col=\"Celltype\",\n",
    "                                 group_col=\"Group\",\n",
    "                                 colors=colors,\n",
    "                                 title='CCI scores for cell-types',\n",
    "                                 cmap='Blues'\n",
    "                                 )\n",
    "\n",
    "# Add a legend to know the groups of the sender and receiver cells:\n",
    "l1 = c2c.plotting.generate_legend(color_dict=colors,\n",
    "                                  loc='center left',\n",
    "                                  bbox_to_anchor=(20, -2), # Indicated where to include it\n",
    "                                  ncol=1, fancybox=True,\n",
    "                                  shadow=True,\n",
    "                                  title='Groups',\n",
    "                                  fontsize=14,\n",
    "                                 )"
   ]
  },
  {
   "cell_type": "markdown",
   "metadata": {},
   "source": [
    "**Project samples/cells with PCoA into a Euclidean space**\n",
    "\n",
    "We can project the samples/cells given their CCI scores with other cells and see how close they are given their potential of interaction.\n",
    "\n",
    "**THIS ONLY WORKS WITH UNDIRECTED CCI SCORES**"
   ]
  },
  {
   "cell_type": "code",
   "execution_count": null,
   "metadata": {},
   "outputs": [],
   "source": [
    "if interactions.analysis_setup['cci_type'] == 'undirected':\n",
    "        \n",
    "    pcoa = c2c.plotting.pcoa_3dplot(interactions,\n",
    "                                    metadata=group_meta,\n",
    "                                    sample_col=\"Celltype\",\n",
    "                                    group_col=\"Group\",\n",
    "                                    title='PCoA based on potential CCIs',\n",
    "                                    colors=colors,\n",
    "                                    )"
   ]
  },
  {
   "cell_type": "markdown",
   "metadata": {},
   "source": [
    "Without metadata"
   ]
  },
  {
   "cell_type": "code",
   "execution_count": null,
   "metadata": {},
   "outputs": [],
   "source": [
    "if interactions.analysis_setup['cci_type'] == 'undirected':\n",
    "    celltype_colors = c2c.plotting.get_colors_from_labels(labels=meta['cluster'].unique().tolist(),\n",
    "                                                          cmap='tab10'\n",
    "                                                         )    \n",
    "    pcoa = c2c.plotting.pcoa_3dplot(interactions,\n",
    "                                    title='PCoA based on potential CCIs',\n",
    "                                    colors=celltype_colors,\n",
    "                                    )"
   ]
  },
  {
   "cell_type": "code",
   "execution_count": null,
   "metadata": {},
   "outputs": [],
   "source": []
  }
 ],
 "metadata": {
  "kernelspec": {
   "display_name": "Python 3",
   "language": "python",
   "name": "python3"
  },
  "language_info": {
   "codemirror_mode": {
    "name": "ipython",
    "version": 3
   },
   "file_extension": ".py",
   "mimetype": "text/x-python",
   "name": "python",
   "nbconvert_exporter": "python",
   "pygments_lexer": "ipython3",
   "version": "3.7.8"
  }
 },
 "nbformat": 4,
 "nbformat_minor": 4
}
