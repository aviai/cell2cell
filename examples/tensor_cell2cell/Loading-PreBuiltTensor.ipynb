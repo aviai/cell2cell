{
 "cells": [
  {
   "cell_type": "code",
   "execution_count": 1,
   "metadata": {},
   "outputs": [],
   "source": [
    "import cell2cell as c2c\n",
    "\n",
    "import pandas as pd\n",
    "import numpy as np\n",
    "\n",
    "%matplotlib inline"
   ]
  },
  {
   "cell_type": "code",
   "execution_count": 2,
   "metadata": {},
   "outputs": [
    {
     "data": {
      "text/plain": [
       "'0.5.3'"
      ]
     },
     "execution_count": 2,
     "metadata": {},
     "output_type": "execute_result"
    }
   ],
   "source": [
    "c2c.__version__"
   ]
  },
  {
   "cell_type": "markdown",
   "metadata": {},
   "source": [
    "# Load Data"
   ]
  },
  {
   "cell_type": "markdown",
   "metadata": {},
   "source": [
    "### Directories"
   ]
  },
  {
   "cell_type": "code",
   "execution_count": 3,
   "metadata": {},
   "outputs": [],
   "source": [
    "import os\n",
    "\n",
    "data_folder = './'\n",
    "directory = os.fsencode(data_folder)"
   ]
  },
  {
   "cell_type": "code",
   "execution_count": 4,
   "metadata": {},
   "outputs": [],
   "source": [
    "precomputed = c2c.io.read_data.load_variable_with_pickle(data_folder + '/PreBuiltTensor-PBMC.pkl')"
   ]
  },
  {
   "cell_type": "markdown",
   "metadata": {},
   "source": [
    "### Tensor\n",
    "\n",
    "For generating a prebuilt tensor, we just need a tensor (list of lists or any other array obtained from cell2cell or any other tool such as CellChat or CellPhoneDB). Here we will use a numpy array borrowed from a precomputed InteractionTensor.\n",
    "\n",
    "***The tensor we use here is the one build in this [example of using Tensor-cell2cell](https://github.com/earmingol/cell2cell/blob/master/examples/tensor_cell2cell/GPU-Example.ipynb).***"
   ]
  },
  {
   "cell_type": "markdown",
   "metadata": {},
   "source": [
    "The tensor in this case is a numpy array."
   ]
  },
  {
   "cell_type": "code",
   "execution_count": 5,
   "metadata": {},
   "outputs": [],
   "source": [
    "tensor = precomputed.tensor"
   ]
  },
  {
   "cell_type": "code",
   "execution_count": 6,
   "metadata": {},
   "outputs": [
    {
     "data": {
      "text/plain": [
       "numpy.ndarray"
      ]
     },
     "execution_count": 6,
     "metadata": {},
     "output_type": "execute_result"
    }
   ],
   "source": [
    "type(tensor)"
   ]
  },
  {
   "cell_type": "code",
   "execution_count": 7,
   "metadata": {},
   "outputs": [
    {
     "data": {
      "text/plain": [
       "(60, 1639, 6, 6)"
      ]
     },
     "execution_count": 7,
     "metadata": {},
     "output_type": "execute_result"
    }
   ],
   "source": [
    "tensor.shape"
   ]
  },
  {
   "cell_type": "markdown",
   "metadata": {},
   "source": [
    "The tensor here contains the communication scores and looks like:"
   ]
  },
  {
   "cell_type": "code",
   "execution_count": 8,
   "metadata": {
    "scrolled": false
   },
   "outputs": [
    {
     "data": {
      "text/plain": [
       "array([[[[0.06959707, 0.08663774],\n",
       "         [0.1507252 , 0.16776587]],\n",
       "\n",
       "        [[0.01465201, 0.03169268],\n",
       "         [0.01140121, 0.02844188]]],\n",
       "\n",
       "\n",
       "       [[[0.07142857, 0.09162473],\n",
       "         [0.11220803, 0.13240418]],\n",
       "\n",
       "        [[0.01190476, 0.03210092],\n",
       "         [0.01058201, 0.03077816]]]])"
      ]
     },
     "execution_count": 8,
     "metadata": {},
     "output_type": "execute_result"
    }
   ],
   "source": [
    "# First two coordinates of each dimension\n",
    "tensor[:2, :2, :2, :2]"
   ]
  },
  {
   "cell_type": "markdown",
   "metadata": {},
   "source": [
    "**Names for each coordinate for each dimension**"
   ]
  },
  {
   "cell_type": "markdown",
   "metadata": {},
   "source": [
    "Now we need a name for each coordinate in each dimension of the tensor. Again, we will borrow that from our precomputed InteractionTensor."
   ]
  },
  {
   "cell_type": "code",
   "execution_count": 9,
   "metadata": {},
   "outputs": [],
   "source": [
    "dim1_names = precomputed.order_names[0]"
   ]
  },
  {
   "cell_type": "code",
   "execution_count": 10,
   "metadata": {},
   "outputs": [],
   "source": [
    "dim2_names = precomputed.order_names[1]"
   ]
  },
  {
   "cell_type": "code",
   "execution_count": 11,
   "metadata": {},
   "outputs": [],
   "source": [
    "dim3_names = precomputed.order_names[2]"
   ]
  },
  {
   "cell_type": "code",
   "execution_count": 12,
   "metadata": {},
   "outputs": [],
   "source": [
    "dim4_names = precomputed.order_names[3]"
   ]
  },
  {
   "cell_type": "markdown",
   "metadata": {},
   "source": [
    "How they look like"
   ]
  },
  {
   "cell_type": "code",
   "execution_count": 13,
   "metadata": {},
   "outputs": [
    {
     "data": {
      "text/plain": [
       "['S-HC003', 'S-HC004', 'S-HC005', 'S-HC006', 'S-HC007']"
      ]
     },
     "execution_count": 13,
     "metadata": {},
     "output_type": "execute_result"
    }
   ],
   "source": [
    "# Names of the first five contexts\n",
    "dim1_names[:5]"
   ]
  },
  {
   "cell_type": "code",
   "execution_count": 14,
   "metadata": {},
   "outputs": [
    {
     "data": {
      "text/plain": [
       "['TGFB1^TGFBR1&TGFBR2',\n",
       " 'TGFB2^TGFBR1&TGFBR2',\n",
       " 'TGFB3^TGFBR1&TGFBR2',\n",
       " 'TGFB1^ACVR1B&TGFBR2',\n",
       " 'TGFB1^ACVR1C&TGFBR2']"
      ]
     },
     "execution_count": 14,
     "metadata": {},
     "output_type": "execute_result"
    }
   ],
   "source": [
    "# Names of the first five ligand-receptor pairs\n",
    "dim2_names[:5]"
   ]
  },
  {
   "cell_type": "code",
   "execution_count": 15,
   "metadata": {},
   "outputs": [
    {
     "data": {
      "text/plain": [
       "['B', 'CD4', 'CD8', 'DC', 'Mono']"
      ]
     },
     "execution_count": 15,
     "metadata": {},
     "output_type": "execute_result"
    }
   ],
   "source": [
    "# Names of the first five sender cells\n",
    "dim3_names[:5]"
   ]
  },
  {
   "cell_type": "code",
   "execution_count": 16,
   "metadata": {},
   "outputs": [
    {
     "data": {
      "text/plain": [
       "['B', 'CD4', 'CD8', 'DC', 'Mono']"
      ]
     },
     "execution_count": 16,
     "metadata": {},
     "output_type": "execute_result"
    }
   ],
   "source": [
    "# Names of the first five receiver cells\n",
    "dim4_names[:5]"
   ]
  },
  {
   "cell_type": "markdown",
   "metadata": {},
   "source": [
    "# Generate a prebuilt Interaction Tensor"
   ]
  },
  {
   "cell_type": "markdown",
   "metadata": {},
   "source": [
    "With this information we can now generate an InteractionTensor *without the need to use a gene expression matrix neither a list of LR pairs and we can directly reuse the communication scores* ***even from other tools.***"
   ]
  },
  {
   "cell_type": "code",
   "execution_count": 17,
   "metadata": {},
   "outputs": [],
   "source": [
    "new = c2c.tensor.PreBuiltTensor(tensor=tensor,\n",
    "                                order_names=[dim1_names, dim2_names, dim3_names, dim4_names],\n",
    "                                order_labels=['Samples/Contexts', 'Ligand-Receptor Pairs', 'Sender Cells', 'Receiver Cells'],\n",
    "                                mask=None, #Change if you want to omit values in the decomposition\n",
    "                                device=None #Change if you are using pytorch as backend for using GPU\n",
    "                               )"
   ]
  },
  {
   "cell_type": "markdown",
   "metadata": {},
   "source": [
    "# Ready to perform analyses"
   ]
  },
  {
   "cell_type": "markdown",
   "metadata": {},
   "source": [
    "**Decompose into 3 factors**"
   ]
  },
  {
   "cell_type": "code",
   "execution_count": 18,
   "metadata": {},
   "outputs": [],
   "source": [
    "new.compute_tensor_factorization(rank=3,\n",
    "                                 init='random',\n",
    "                                 random_state=888)"
   ]
  },
  {
   "cell_type": "markdown",
   "metadata": {},
   "source": [
    "**Plot the results**"
   ]
  },
  {
   "cell_type": "code",
   "execution_count": 19,
   "metadata": {},
   "outputs": [
    {
     "data": {
      "image/png": "[encoded data removed]",
      "text/plain": [
       "<Figure size 720x288 with 12 Axes>"
      ]
     },
     "metadata": {
      "needs_background": "light"
     },
     "output_type": "display_data"
    }
   ],
   "source": [
    "fig, axes = c2c.plotting.tensor_factors_plot(interaction_tensor=new,\n",
    "                                             fontsize=14,\n",
    "                                            )"
   ]
  },
  {
   "cell_type": "markdown",
   "metadata": {},
   "source": [
    "For coloring the bars, we need a metadata object. Here we can reuse the one from our previous example [here](https://github.com/earmingol/cell2cell/blob/master/examples/tensor_cell2cell/GPU-Example.ipynb)"
   ]
  },
  {
   "cell_type": "code",
   "execution_count": 20,
   "metadata": {},
   "outputs": [],
   "source": [
    "meta_tf = c2c.io.read_data.load_variable_with_pickle(data_folder + '/PreBuiltMetadata-PBMC.pkl')"
   ]
  },
  {
   "cell_type": "code",
   "execution_count": 22,
   "metadata": {},
   "outputs": [],
   "source": [
    "# Color palettes for each dimension in the tensor\n",
    "cmaps = ['plasma', 'Dark2_r', 'tab20', 'tab20']"
   ]
  },
  {
   "cell_type": "code",
   "execution_count": 23,
   "metadata": {},
   "outputs": [
    {
     "data": {
      "image/png": "[encoded data removed]",
      "text/plain": [
       "<Figure size 720x288 with 12 Axes>"
      ]
     },
     "metadata": {
      "needs_background": "light"
     },
     "output_type": "display_data"
    }
   ],
   "source": [
    "fig, axes = c2c.plotting.tensor_factors_plot(interaction_tensor=new,\n",
    "                                             metadata = meta_tf,\n",
    "                                             sample_col='Element',\n",
    "                                             group_col='Category',\n",
    "                                             meta_cmaps=cmaps,\n",
    "                                             fontsize=14,\n",
    "                                            )"
   ]
  },
  {
   "cell_type": "markdown",
   "metadata": {},
   "source": [
    "**Top-10 LR pairs in each factor:**"
   ]
  },
  {
   "cell_type": "code",
   "execution_count": 24,
   "metadata": {},
   "outputs": [
    {
     "name": "stdout",
     "output_type": "stream",
     "text": [
      "CLDN11^CLDN11         17.516987\n",
      "CD99^CD99             15.348146\n",
      "MIF^CD74&CXCR4        14.946205\n",
      "MIF^CD74&CD44         14.102089\n",
      "APP^CD74              13.872295\n",
      "LGALS9^CD44           12.489315\n",
      "TNFSF13B^TNFRSF13C    12.462369\n",
      "ITGB2^ICAM2           11.907752\n",
      "TNFSF13B^TNFRSF13B    11.663673\n",
      "CD22^PTPRC            11.501935\n",
      "Name: Factor 1, dtype: float64\n",
      "\n",
      "CD99^CD99             12.537297\n",
      "CLDN11^CLDN11         11.682421\n",
      "MIF^CD74&CXCR4        10.613926\n",
      "MIF^CD74&CD44         10.137611\n",
      "ITGB2^ICAM2            9.089052\n",
      "GZMA^F2R               8.296201\n",
      "ITGB2^CD226            7.767458\n",
      "TNFSF13B^TNFRSF13C     7.688631\n",
      "CCL5^CCR4              7.662014\n",
      "PTPRC^MRC1             7.620876\n",
      "Name: Factor 2, dtype: float64\n",
      "\n",
      "CD99^PILRA       10.588546\n",
      "ANXA1^FPR1        9.720229\n",
      "THBS1^CD36        9.664689\n",
      "CSF3^CSF3R        9.566957\n",
      "THBS3^CD36        8.738967\n",
      "COMP^CD36         8.622460\n",
      "THBS4^CD36        8.611343\n",
      "THBS2^CD36        8.566813\n",
      "IL16^CD4          8.143681\n",
      "PECAM1^PECAM1     8.122985\n",
      "Name: Factor 3, dtype: float64\n",
      "\n"
     ]
    }
   ],
   "source": [
    "for i in range(new.rank):\n",
    "    print(new.get_top_factor_elements('Ligand-Receptor Pairs', 'Factor {}'.format(i+1), 10))\n",
    "    print('')"
   ]
  },
  {
   "cell_type": "code",
   "execution_count": null,
   "metadata": {},
   "outputs": [],
   "source": []
  }
 ],
 "metadata": {
  "kernelspec": {
   "display_name": "Python 3",
   "language": "python",
   "name": "python3"
  },
  "language_info": {
   "codemirror_mode": {
    "name": "ipython",
    "version": 3
   },
   "file_extension": ".py",
   "mimetype": "text/x-python",
   "name": "python",
   "nbconvert_exporter": "python",
   "pygments_lexer": "ipython3",
   "version": "3.7.8"
  }
 },
 "nbformat": 4,
 "nbformat_minor": 2
}
